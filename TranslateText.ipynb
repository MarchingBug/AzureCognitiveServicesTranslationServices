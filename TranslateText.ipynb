{
 "cells": [
  {
   "attachments": {},
   "cell_type": "markdown",
   "metadata": {},
   "source": [
    "replace value of Ocp-Apim-Subscription-Key with the value provided in class, copy the code to your replit account and run it."
   ]
  },
  {
   "cell_type": "code",
   "execution_count": 15,
   "metadata": {},
   "outputs": [
    {
     "name": "stdout",
     "output_type": "stream",
     "text": [
      "[{\"translations\":[{\"text\":\"Je veux conduire votre voiture plusieurs fois autour du pâté de maisons\",\"to\":\"fr\"},{\"text\":\"Ngifuna ukushayela imoto yakho izikhathi eziningi ezungeze i-block\",\"to\":\"zu\"}]}]\n"
     ]
    }
   ],
   "source": [
    "import requests\n",
    "import json\n",
    "\n",
    "url = \"https://api.cognitive.microsofttranslator.com/translate\"\n",
    "\n",
    "payload = json.dumps([\n",
    "  {\n",
    "    \"Text\": \"I want to drive your car many times around the block\"\n",
    "  }\n",
    "])\n",
    "headers = {\n",
    "  'Content-Type': 'application/json',\n",
    "  'Ocp-Apim-Subscription-Key': 'xxxxxxxxxxxxxxxxxxxxxxxxx',\n",
    "  'Ocp-Apim-Subscription-Region': 'eastus'\n",
    "}\n",
    "\n",
    "params = {\n",
    "    'api-version': '3.0',\n",
    "    'from': 'en',\n",
    "    'to': ['fr', 'zu']\n",
    "}\n",
    "\n",
    "\n",
    "response = requests.request(\"POST\", url, params=params, headers=headers, data=payload)\n",
    "\n",
    "print(response.text)\n"
   ]
  }
 ],
 "metadata": {
  "kernelspec": {
   "display_name": "Python 3",
   "language": "python",
   "name": "python3"
  },
  "language_info": {
   "codemirror_mode": {
    "name": "ipython",
    "version": 3
   },
   "file_extension": ".py",
   "mimetype": "text/x-python",
   "name": "python",
   "nbconvert_exporter": "python",
   "pygments_lexer": "ipython3",
   "version": "3.9.7"
  },
  "orig_nbformat": 4,
  "vscode": {
   "interpreter": {
    "hash": "c347c8f9a7ef94e4c9e03b4513be7835ed18f45b99a2a817fb579f408b867b16"
   }
  }
 },
 "nbformat": 4,
 "nbformat_minor": 2
}
